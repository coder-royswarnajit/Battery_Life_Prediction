{
  "cells": [
    {
      "cell_type": "markdown",
      "metadata": {
        "id": "view-in-github",
        "colab_type": "text"
      },
      "source": [
        "<a href=\"https://colab.research.google.com/github/coder-royswarnajit/Battery_Life_Prediction/blob/main/Quantum.ipynb\" target=\"_parent\"><img src=\"https://colab.research.google.com/assets/colab-badge.svg\" alt=\"Open In Colab\"/></a>"
      ]
    },
    {
      "cell_type": "code",
      "execution_count": null,
      "metadata": {
        "colab": {
          "base_uri": "https://localhost:8080/",
          "height": 383
        },
        "id": "FIF843tu_2e2",
        "outputId": "93481e90-cd7c-4e7b-e101-29e0df05ccf8"
      },
      "outputs": [
        {
          "output_type": "error",
          "ename": "ImportError",
          "evalue": "cannot import name 'algorithm_globals' from 'qiskit.utils' (/usr/local/lib/python3.11/dist-packages/qiskit/utils/__init__.py)",
          "traceback": [
            "\u001b[0;31m---------------------------------------------------------------------------\u001b[0m",
            "\u001b[0;31mImportError\u001b[0m                               Traceback (most recent call last)",
            "\u001b[0;32m<ipython-input-14-9b8922926e8e>\u001b[0m in \u001b[0;36m<cell line: 0>\u001b[0;34m()\u001b[0m\n\u001b[1;32m      6\u001b[0m \u001b[0;32mfrom\u001b[0m \u001b[0msklearn\u001b[0m\u001b[0;34m.\u001b[0m\u001b[0mmetrics\u001b[0m \u001b[0;32mimport\u001b[0m \u001b[0mmean_squared_error\u001b[0m\u001b[0;34m,\u001b[0m \u001b[0mr2_score\u001b[0m\u001b[0;34m\u001b[0m\u001b[0;34m\u001b[0m\u001b[0m\n\u001b[1;32m      7\u001b[0m \u001b[0;32mfrom\u001b[0m \u001b[0mqiskit_aer\u001b[0m \u001b[0;32mimport\u001b[0m \u001b[0mAerSimulator\u001b[0m  \u001b[0;31m# Faster backend\u001b[0m\u001b[0;34m\u001b[0m\u001b[0;34m\u001b[0m\u001b[0m\n\u001b[0;32m----> 8\u001b[0;31m \u001b[0;32mfrom\u001b[0m \u001b[0mqiskit\u001b[0m\u001b[0;34m.\u001b[0m\u001b[0mutils\u001b[0m \u001b[0;32mimport\u001b[0m \u001b[0malgorithm_globals\u001b[0m\u001b[0;34m\u001b[0m\u001b[0;34m\u001b[0m\u001b[0m\n\u001b[0m\u001b[1;32m      9\u001b[0m \u001b[0;32mfrom\u001b[0m \u001b[0mqiskit\u001b[0m\u001b[0;34m.\u001b[0m\u001b[0mprimitives\u001b[0m \u001b[0;32mimport\u001b[0m \u001b[0mEstimator\u001b[0m\u001b[0;34m\u001b[0m\u001b[0;34m\u001b[0m\u001b[0m\n\u001b[1;32m     10\u001b[0m \u001b[0;32mfrom\u001b[0m \u001b[0mqiskit\u001b[0m\u001b[0;34m.\u001b[0m\u001b[0mcircuit\u001b[0m\u001b[0;34m.\u001b[0m\u001b[0mlibrary\u001b[0m \u001b[0;32mimport\u001b[0m \u001b[0mZZFeatureMap\u001b[0m\u001b[0;34m,\u001b[0m \u001b[0mEfficientSU2\u001b[0m\u001b[0;34m\u001b[0m\u001b[0;34m\u001b[0m\u001b[0m\n",
            "\u001b[0;31mImportError\u001b[0m: cannot import name 'algorithm_globals' from 'qiskit.utils' (/usr/local/lib/python3.11/dist-packages/qiskit/utils/__init__.py)",
            "",
            "\u001b[0;31m---------------------------------------------------------------------------\u001b[0;32m\nNOTE: If your import is failing due to a missing package, you can\nmanually install dependencies using either !pip or !apt.\n\nTo view examples of installing some common dependencies, click the\n\"Open Examples\" button below.\n\u001b[0;31m---------------------------------------------------------------------------\u001b[0m\n"
          ],
          "errorDetails": {
            "actions": [
              {
                "action": "open_url",
                "actionText": "Open Examples",
                "url": "/notebooks/snippets/importing_libraries.ipynb"
              }
            ]
          }
        }
      ],
      "source": [
        "import pandas as pd\n",
        "import numpy as np\n",
        "from sklearn.model_selection import train_test_split, KFold\n",
        "from sklearn.decomposition import PCA\n",
        "from sklearn.preprocessing import StandardScaler, MinMaxScaler\n",
        "from sklearn.metrics import mean_squared_error, r2_score\n",
        "from qiskit_aer import AerSimulator  # Faster backend\n",
        "from qiskit.utils import algorithm_globals\n",
        "from qiskit.primitives import Estimator\n",
        "from qiskit.circuit.library import ZZFeatureMap, EfficientSU2\n",
        "from qiskit_machine_learning.neural_networks import EstimatorQNN\n",
        "from qiskit_machine_learning.algorithms import NeuralNetworkRegressor\n",
        "from qiskit.algorithms.optimizers import ADAM  # Faster optimizer\n",
        "from qiskit.algorithms.gradients import ParamShiftEstimatorGradient\n",
        "\n",
        "# Load Data\n",
        "data = pd.read_excel('device_battery_data.xlsx')\n",
        "\n",
        "# Feature Engineering\n",
        "data['alpha'] = data['Category'].map({\n",
        "    'Laptop': 0.80, 'Smartwatch': 0.70, 'Tablet': 0.70,\n",
        "    'Smartphone': 0.75, 'Gaming Console': 0.85\n",
        "}).fillna(0.75)\n",
        "\n",
        "data['beta'] = data['Category'].map({\n",
        "    'Laptop': 0.20, 'Smartwatch': 0.30, 'Tablet': 0.30,\n",
        "    'Smartphone': 0.25, 'Gaming Console': 0.15\n",
        "}).fillna(0.25)\n",
        "\n",
        "data['Battery_Degradation_Factor'] = (\n",
        "    1 - (data['alpha'] * (data['Charging_Cycles'] / data['Maximum Cycles']))\n",
        "    - (data['beta'] * (data['Device Age (years)'] / data['Battery Lifespan (years)']))\n",
        ")\n",
        "\n",
        "data['Average_Power_Consumption'] = ((data['Active Time per Day (hours)'] * data['Active Power Consumption (mW)']) + (data['Sleep Time per Day (hours)'] * data['Sleep Power Consumption (mW)'])) / 24\n",
        "\n",
        "data['Battery_Capacity_mWh'] = data['Battery Capacity (mAh)'] * data['Battery Voltage (V)']\n",
        "\n",
        "def get_temperature_factor(temp):\n",
        "    if pd.isna(temp):\n",
        "        return 1.0\n",
        "    temp = float(temp)\n",
        "    return 1.0 if 20 <= temp <= 30 else 0.85 if temp > 35 else 0.65 if temp < 0 else 1.0\n",
        "\n",
        "data['Temperature Factor'] = data['Operating Temp (°C)'].apply(get_temperature_factor)\n",
        "\n",
        "env_map = {'ideal': 1.0, 'low humidity/dust': 0.95, 'high humidity/dust': 0.925, 'extreme': 0.85}\n",
        "data['Environmental Factor'] = data['Environmental Conditions'].str.lower().str.strip().map(env_map).fillna(1.0)\n",
        "\n",
        "# Ensure no division by zero\n",
        "data.loc[:, 'Average_Power_Consumption'] = data['Average_Power_Consumption'].replace(0, np.nan)\n",
        "data.dropna(subset=['Average_Power_Consumption'], inplace=True)\n",
        "\n",
        "# Compute Battery_Life if missing\n",
        "data['Battery_Life'] = (\n",
        "    data['Battery_Capacity_mWh'] * data['Battery_Degradation_Factor']\n",
        "    * data['Temperature Factor'] * data['Environmental Factor']\n",
        "    / data['Average_Power_Consumption']\n",
        ")\n",
        "\n",
        "data.dropna(subset=['Battery_Life'], inplace=True)\n",
        "\n",
        "# Remove invalid values before applying MinMax scaling\n",
        "data = data[data['Battery_Life'] > 0]\n",
        "y_scaler = MinMaxScaler()\n",
        "y = y_scaler.fit_transform(data[['Battery_Life']].values)\n",
        "\n",
        "# Prepare Data\n",
        "features = ['Battery_Degradation_Factor', 'Average_Power_Consumption',\n",
        "            'Battery_Capacity_mWh', 'Temperature Factor', 'Environmental Factor']\n",
        "X = data[features].values\n",
        "\n",
        "scaler = StandardScaler()\n",
        "X_scaled = scaler.fit_transform(X)\n",
        "\n",
        "# Use PCA dynamically to retain at least 3 features (reduces QNN size)\n",
        "pca = PCA(n_components=min(3, X.shape[1]))\n",
        "X_reduced = pca.fit_transform(X_scaled)\n",
        "\n",
        "# Train-test split\n",
        "X_train, X_test, y_train, y_test = train_test_split(X_reduced, y, test_size=0.2, random_state=42, shuffle=True)\n",
        "\n",
        "# Quantum Neural Network\n",
        "seed = 42\n",
        "algorithm_globals.random_seed = seed\n",
        "estimator = AerSimulator()  # Faster backend\n",
        "\n",
        "num_qubits = max(1, X_reduced.shape[1])  # Reduce to at most 3 qubits\n",
        "\n",
        "# Faster feature map and ansatz\n",
        "feature_map = ZZFeatureMap(feature_dimension=num_qubits, reps=1, entanglement=\"linear\")\n",
        "ansatz = EfficientSU2(num_qubits, reps=1, entanglement=\"linear\")\n",
        "\n",
        "# Gradient computation\n",
        "gradient = ParamShiftEstimatorGradient(estimator)\n",
        "\n",
        "# Print circuit details\n",
        "print(\"Feature Map Parameters:\", len(feature_map.parameters))\n",
        "print(\"Ansatz Parameters:\", len(ansatz.parameters))\n",
        "\n",
        "# Construct Quantum Neural Network\n",
        "qnn = EstimatorQNN(\n",
        "    circuit=feature_map.compose(ansatz),\n",
        "    input_params=feature_map.parameters,\n",
        "    weight_params=ansatz.parameters,\n",
        "    estimator=estimator,\n",
        "    gradient=gradient\n",
        ")\n",
        "\n",
        "# Faster optimizer (ADAM instead of SPSA)\n",
        "optimizer = ADAM(maxiter=200, lr=0.01)\n",
        "\n",
        "# Define neural network regressor\n",
        "nn_regressor = NeuralNetworkRegressor(qnn, optimizer=optimizer)\n",
        "\n",
        "# Batch training to speed up\n",
        "batch_size = min(500, len(X_train))\n",
        "X_train_batch, y_train_batch = X_train[:batch_size], y_train[:batch_size]\n",
        "\n",
        "# Train the model\n",
        "nn_regressor.fit(X_train_batch, y_train_batch)\n",
        "\n",
        "# Cross-validation\n",
        "kf = KFold(n_splits=2, shuffle=True, random_state=seed)\n",
        "mse_scores, r2_scores = [], []\n",
        "\n",
        "for train_idx, val_idx in kf.split(X_train):\n",
        "    X_cv_train, X_cv_val = X_train[train_idx][:batch_size], X_train[val_idx][:batch_size]\n",
        "    y_cv_train, y_cv_val = y_train[train_idx][:batch_size], y_train[val_idx][:batch_size]\n",
        "\n",
        "    nn_regressor.fit(X_cv_train, y_cv_train)\n",
        "    y_cv_pred = np.maximum(0, y_scaler.inverse_transform(nn_regressor.predict(X_cv_val).reshape(-1, 1)))\n",
        "\n",
        "    mse_scores.append(mean_squared_error(y_cv_val, y_cv_pred))\n",
        "    r2_scores.append(r2_score(y_cv_val, y_cv_pred))\n",
        "\n",
        "# Final Model Evaluation\n",
        "y_pred = np.maximum(0, y_scaler.inverse_transform(nn_regressor.predict(X_test)))  # Reverse scaling & prevent negatives\n",
        "mse = mean_squared_error(y_test, y_pred)\n",
        "r2 = r2_score(y_test, y_pred)\n",
        "\n",
        "print(\"\\nQuantum Neural Network Regressor Results:\")\n",
        "print(f\"  MSE: {mse:.4f} (Avg CV MSE: {np.mean(mse_scores):.4f})\")\n",
        "print(f\"  R²: {r2:.4f} (Avg CV R²: {np.mean(r2_scores):.4f})\")\n",
        "\n",
        "# Display sample predictions\n",
        "print(\"\\nSample Predictions:\")\n",
        "print(\"Actual:\", y_scaler.inverse_transform(y_test[:10].reshape(-1, 1)))\n",
        "print(\"Predicted:\", y_pred[:10])\n"
      ]
    },
    {
      "cell_type": "code",
      "source": [],
      "metadata": {
        "id": "Ads1XuQRbtxF"
      },
      "execution_count": null,
      "outputs": []
    },
    {
      "cell_type": "code",
      "execution_count": 2,
      "metadata": {
        "id": "p0p0JCiXUAro",
        "colab": {
          "base_uri": "https://localhost:8080/"
        },
        "outputId": "d5e06990-0033-41c7-85db-d694dbc3ac91"
      },
      "outputs": [
        {
          "output_type": "stream",
          "name": "stdout",
          "text": [
            "Collecting qiskit\n",
            "  Downloading qiskit-1.4.1-cp39-abi3-manylinux_2_17_x86_64.manylinux2014_x86_64.whl.metadata (12 kB)\n",
            "Collecting qiskit-aer\n",
            "  Downloading qiskit_aer-0.16.4-cp311-cp311-manylinux_2_17_x86_64.manylinux2014_x86_64.whl.metadata (8.2 kB)\n",
            "Collecting qiskit-machine-learning\n",
            "  Downloading qiskit_machine_learning-0.8.2-py3-none-any.whl.metadata (13 kB)\n",
            "Collecting qiskit-algorithms\n",
            "  Downloading qiskit_algorithms-0.3.1-py3-none-any.whl.metadata (4.2 kB)\n",
            "Requirement already satisfied: pandas in /usr/local/lib/python3.11/dist-packages (2.2.2)\n",
            "Requirement already satisfied: scikit-learn in /usr/local/lib/python3.11/dist-packages (1.6.1)\n",
            "Collecting rustworkx>=0.15.0 (from qiskit)\n",
            "  Downloading rustworkx-0.16.0-cp39-abi3-manylinux_2_17_x86_64.manylinux2014_x86_64.whl.metadata (10 kB)\n",
            "Requirement already satisfied: numpy<3,>=1.17 in /usr/local/lib/python3.11/dist-packages (from qiskit) (1.26.4)\n",
            "Requirement already satisfied: scipy>=1.5 in /usr/local/lib/python3.11/dist-packages (from qiskit) (1.13.1)\n",
            "Requirement already satisfied: sympy>=1.3 in /usr/local/lib/python3.11/dist-packages (from qiskit) (1.13.1)\n",
            "Collecting dill>=0.3 (from qiskit)\n",
            "  Downloading dill-0.3.9-py3-none-any.whl.metadata (10 kB)\n",
            "Requirement already satisfied: python-dateutil>=2.8.0 in /usr/local/lib/python3.11/dist-packages (from qiskit) (2.8.2)\n",
            "Collecting stevedore>=3.0.0 (from qiskit)\n",
            "  Downloading stevedore-5.4.1-py3-none-any.whl.metadata (2.3 kB)\n",
            "Requirement already satisfied: typing-extensions in /usr/local/lib/python3.11/dist-packages (from qiskit) (4.12.2)\n",
            "Collecting symengine<0.14,>=0.11 (from qiskit)\n",
            "  Downloading symengine-0.13.0-cp311-cp311-manylinux_2_17_x86_64.manylinux2014_x86_64.whl.metadata (1.2 kB)\n",
            "Requirement already satisfied: psutil>=5 in /usr/local/lib/python3.11/dist-packages (from qiskit-aer) (5.9.5)\n",
            "Requirement already satisfied: setuptools>=40.1 in /usr/local/lib/python3.11/dist-packages (from qiskit-machine-learning) (75.1.0)\n",
            "Requirement already satisfied: pytz>=2020.1 in /usr/local/lib/python3.11/dist-packages (from pandas) (2025.1)\n",
            "Requirement already satisfied: tzdata>=2022.7 in /usr/local/lib/python3.11/dist-packages (from pandas) (2025.1)\n",
            "Requirement already satisfied: joblib>=1.2.0 in /usr/local/lib/python3.11/dist-packages (from scikit-learn) (1.4.2)\n",
            "Requirement already satisfied: threadpoolctl>=3.1.0 in /usr/local/lib/python3.11/dist-packages (from scikit-learn) (3.5.0)\n",
            "Requirement already satisfied: six>=1.5 in /usr/local/lib/python3.11/dist-packages (from python-dateutil>=2.8.0->qiskit) (1.17.0)\n",
            "Collecting pbr>=2.0.0 (from stevedore>=3.0.0->qiskit)\n",
            "  Downloading pbr-6.1.1-py2.py3-none-any.whl.metadata (3.4 kB)\n",
            "Requirement already satisfied: mpmath<1.4,>=1.1.0 in /usr/local/lib/python3.11/dist-packages (from sympy>=1.3->qiskit) (1.3.0)\n",
            "Downloading qiskit-1.4.1-cp39-abi3-manylinux_2_17_x86_64.manylinux2014_x86_64.whl (6.7 MB)\n",
            "\u001b[2K   \u001b[90m━━━━━━━━━━━━━━━━━━━━━━━━━━━━━━━━━━━━━━━━\u001b[0m \u001b[32m6.7/6.7 MB\u001b[0m \u001b[31m18.3 MB/s\u001b[0m eta \u001b[36m0:00:00\u001b[0m\n",
            "\u001b[?25hDownloading qiskit_aer-0.16.4-cp311-cp311-manylinux_2_17_x86_64.manylinux2014_x86_64.whl (12.4 MB)\n",
            "\u001b[2K   \u001b[90m━━━━━━━━━━━━━━━━━━━━━━━━━━━━━━━━━━━━━━━━\u001b[0m \u001b[32m12.4/12.4 MB\u001b[0m \u001b[31m27.8 MB/s\u001b[0m eta \u001b[36m0:00:00\u001b[0m\n",
            "\u001b[?25hDownloading qiskit_machine_learning-0.8.2-py3-none-any.whl (231 kB)\n",
            "\u001b[2K   \u001b[90m━━━━━━━━━━━━━━━━━━━━━━━━━━━━━━━━━━━━━━━━\u001b[0m \u001b[32m231.6/231.6 kB\u001b[0m \u001b[31m14.5 MB/s\u001b[0m eta \u001b[36m0:00:00\u001b[0m\n",
            "\u001b[?25hDownloading qiskit_algorithms-0.3.1-py3-none-any.whl (310 kB)\n",
            "\u001b[2K   \u001b[90m━━━━━━━━━━━━━━━━━━━━━━━━━━━━━━━━━━━━━━━━\u001b[0m \u001b[32m310.5/310.5 kB\u001b[0m \u001b[31m16.1 MB/s\u001b[0m eta \u001b[36m0:00:00\u001b[0m\n",
            "\u001b[?25hDownloading dill-0.3.9-py3-none-any.whl (119 kB)\n",
            "\u001b[2K   \u001b[90m━━━━━━━━━━━━━━━━━━━━━━━━━━━━━━━━━━━━━━━━\u001b[0m \u001b[32m119.4/119.4 kB\u001b[0m \u001b[31m8.1 MB/s\u001b[0m eta \u001b[36m0:00:00\u001b[0m\n",
            "\u001b[?25hDownloading rustworkx-0.16.0-cp39-abi3-manylinux_2_17_x86_64.manylinux2014_x86_64.whl (2.1 MB)\n",
            "\u001b[2K   \u001b[90m━━━━━━━━━━━━━━━━━━━━━━━━━━━━━━━━━━━━━━━━\u001b[0m \u001b[32m2.1/2.1 MB\u001b[0m \u001b[31m26.6 MB/s\u001b[0m eta \u001b[36m0:00:00\u001b[0m\n",
            "\u001b[?25hDownloading stevedore-5.4.1-py3-none-any.whl (49 kB)\n",
            "\u001b[2K   \u001b[90m━━━━━━━━━━━━━━━━━━━━━━━━━━━━━━━━━━━━━━━━\u001b[0m \u001b[32m49.5/49.5 kB\u001b[0m \u001b[31m3.6 MB/s\u001b[0m eta \u001b[36m0:00:00\u001b[0m\n",
            "\u001b[?25hDownloading symengine-0.13.0-cp311-cp311-manylinux_2_17_x86_64.manylinux2014_x86_64.whl (49.7 MB)\n",
            "\u001b[2K   \u001b[90m━━━━━━━━━━━━━━━━━━━━━━━━━━━━━━━━━━━━━━━━\u001b[0m \u001b[32m49.7/49.7 MB\u001b[0m \u001b[31m7.2 MB/s\u001b[0m eta \u001b[36m0:00:00\u001b[0m\n",
            "\u001b[?25hDownloading pbr-6.1.1-py2.py3-none-any.whl (108 kB)\n",
            "\u001b[2K   \u001b[90m━━━━━━━━━━━━━━━━━━━━━━━━━━━━━━━━━━━━━━━━\u001b[0m \u001b[32m109.0/109.0 kB\u001b[0m \u001b[31m3.5 MB/s\u001b[0m eta \u001b[36m0:00:00\u001b[0m\n",
            "\u001b[?25hInstalling collected packages: symengine, rustworkx, pbr, dill, stevedore, qiskit, qiskit-machine-learning, qiskit-algorithms, qiskit-aer\n",
            "Successfully installed dill-0.3.9 pbr-6.1.1 qiskit-1.4.1 qiskit-aer-0.16.4 qiskit-algorithms-0.3.1 qiskit-machine-learning-0.8.2 rustworkx-0.16.0 stevedore-5.4.1 symengine-0.13.0\n"
          ]
        }
      ],
      "source": [
        "!pip install qiskit qiskit-aer qiskit-machine-learning qiskit-algorithms pandas scikit-learn\n",
        "\n"
      ]
    },
    {
      "cell_type": "code",
      "execution_count": 3,
      "metadata": {
        "id": "F853Y54KUGUb"
      },
      "outputs": [],
      "source": [
        "# Import required libraries\n",
        "import pandas as pd\n",
        "import numpy as np\n",
        "from sklearn.model_selection import train_test_split, KFold\n",
        "from sklearn.decomposition import PCA\n",
        "from sklearn.preprocessing import StandardScaler, MinMaxScaler\n",
        "from sklearn.metrics import mean_squared_error, r2_score\n",
        "from qiskit_aer import AerSimulator\n",
        "from qiskit_machine_learning.utils import algorithm_globals\n",
        "from qiskit.primitives import StatevectorEstimator\n",
        "from qiskit.circuit.library import ZZFeatureMap, EfficientSU2\n",
        "from qiskit_machine_learning.neural_networks import EstimatorQNN\n",
        "from qiskit_machine_learning.algorithms import NeuralNetworkRegressor\n",
        "from qiskit_algorithms.optimizers import SPSA\n",
        "from qiskit_algorithms.gradients import ParamShiftEstimatorGradient\n"
      ]
    },
    {
      "cell_type": "code",
      "execution_count": 4,
      "metadata": {
        "colab": {
          "base_uri": "https://localhost:8080/",
          "height": 73
        },
        "id": "KFZfuX_YUMck",
        "outputId": "9564f122-d291-4c36-e2dd-0f5824eba122"
      },
      "outputs": [
        {
          "output_type": "display_data",
          "data": {
            "text/plain": [
              "<IPython.core.display.HTML object>"
            ],
            "text/html": [
              "\n",
              "     <input type=\"file\" id=\"files-6ce3c678-e0c4-40c9-bdab-2a9d33568f38\" name=\"files[]\" multiple disabled\n",
              "        style=\"border:none\" />\n",
              "     <output id=\"result-6ce3c678-e0c4-40c9-bdab-2a9d33568f38\">\n",
              "      Upload widget is only available when the cell has been executed in the\n",
              "      current browser session. Please rerun this cell to enable.\n",
              "      </output>\n",
              "      <script>// Copyright 2017 Google LLC\n",
              "//\n",
              "// Licensed under the Apache License, Version 2.0 (the \"License\");\n",
              "// you may not use this file except in compliance with the License.\n",
              "// You may obtain a copy of the License at\n",
              "//\n",
              "//      http://www.apache.org/licenses/LICENSE-2.0\n",
              "//\n",
              "// Unless required by applicable law or agreed to in writing, software\n",
              "// distributed under the License is distributed on an \"AS IS\" BASIS,\n",
              "// WITHOUT WARRANTIES OR CONDITIONS OF ANY KIND, either express or implied.\n",
              "// See the License for the specific language governing permissions and\n",
              "// limitations under the License.\n",
              "\n",
              "/**\n",
              " * @fileoverview Helpers for google.colab Python module.\n",
              " */\n",
              "(function(scope) {\n",
              "function span(text, styleAttributes = {}) {\n",
              "  const element = document.createElement('span');\n",
              "  element.textContent = text;\n",
              "  for (const key of Object.keys(styleAttributes)) {\n",
              "    element.style[key] = styleAttributes[key];\n",
              "  }\n",
              "  return element;\n",
              "}\n",
              "\n",
              "// Max number of bytes which will be uploaded at a time.\n",
              "const MAX_PAYLOAD_SIZE = 100 * 1024;\n",
              "\n",
              "function _uploadFiles(inputId, outputId) {\n",
              "  const steps = uploadFilesStep(inputId, outputId);\n",
              "  const outputElement = document.getElementById(outputId);\n",
              "  // Cache steps on the outputElement to make it available for the next call\n",
              "  // to uploadFilesContinue from Python.\n",
              "  outputElement.steps = steps;\n",
              "\n",
              "  return _uploadFilesContinue(outputId);\n",
              "}\n",
              "\n",
              "// This is roughly an async generator (not supported in the browser yet),\n",
              "// where there are multiple asynchronous steps and the Python side is going\n",
              "// to poll for completion of each step.\n",
              "// This uses a Promise to block the python side on completion of each step,\n",
              "// then passes the result of the previous step as the input to the next step.\n",
              "function _uploadFilesContinue(outputId) {\n",
              "  const outputElement = document.getElementById(outputId);\n",
              "  const steps = outputElement.steps;\n",
              "\n",
              "  const next = steps.next(outputElement.lastPromiseValue);\n",
              "  return Promise.resolve(next.value.promise).then((value) => {\n",
              "    // Cache the last promise value to make it available to the next\n",
              "    // step of the generator.\n",
              "    outputElement.lastPromiseValue = value;\n",
              "    return next.value.response;\n",
              "  });\n",
              "}\n",
              "\n",
              "/**\n",
              " * Generator function which is called between each async step of the upload\n",
              " * process.\n",
              " * @param {string} inputId Element ID of the input file picker element.\n",
              " * @param {string} outputId Element ID of the output display.\n",
              " * @return {!Iterable<!Object>} Iterable of next steps.\n",
              " */\n",
              "function* uploadFilesStep(inputId, outputId) {\n",
              "  const inputElement = document.getElementById(inputId);\n",
              "  inputElement.disabled = false;\n",
              "\n",
              "  const outputElement = document.getElementById(outputId);\n",
              "  outputElement.innerHTML = '';\n",
              "\n",
              "  const pickedPromise = new Promise((resolve) => {\n",
              "    inputElement.addEventListener('change', (e) => {\n",
              "      resolve(e.target.files);\n",
              "    });\n",
              "  });\n",
              "\n",
              "  const cancel = document.createElement('button');\n",
              "  inputElement.parentElement.appendChild(cancel);\n",
              "  cancel.textContent = 'Cancel upload';\n",
              "  const cancelPromise = new Promise((resolve) => {\n",
              "    cancel.onclick = () => {\n",
              "      resolve(null);\n",
              "    };\n",
              "  });\n",
              "\n",
              "  // Wait for the user to pick the files.\n",
              "  const files = yield {\n",
              "    promise: Promise.race([pickedPromise, cancelPromise]),\n",
              "    response: {\n",
              "      action: 'starting',\n",
              "    }\n",
              "  };\n",
              "\n",
              "  cancel.remove();\n",
              "\n",
              "  // Disable the input element since further picks are not allowed.\n",
              "  inputElement.disabled = true;\n",
              "\n",
              "  if (!files) {\n",
              "    return {\n",
              "      response: {\n",
              "        action: 'complete',\n",
              "      }\n",
              "    };\n",
              "  }\n",
              "\n",
              "  for (const file of files) {\n",
              "    const li = document.createElement('li');\n",
              "    li.append(span(file.name, {fontWeight: 'bold'}));\n",
              "    li.append(span(\n",
              "        `(${file.type || 'n/a'}) - ${file.size} bytes, ` +\n",
              "        `last modified: ${\n",
              "            file.lastModifiedDate ? file.lastModifiedDate.toLocaleDateString() :\n",
              "                                    'n/a'} - `));\n",
              "    const percent = span('0% done');\n",
              "    li.appendChild(percent);\n",
              "\n",
              "    outputElement.appendChild(li);\n",
              "\n",
              "    const fileDataPromise = new Promise((resolve) => {\n",
              "      const reader = new FileReader();\n",
              "      reader.onload = (e) => {\n",
              "        resolve(e.target.result);\n",
              "      };\n",
              "      reader.readAsArrayBuffer(file);\n",
              "    });\n",
              "    // Wait for the data to be ready.\n",
              "    let fileData = yield {\n",
              "      promise: fileDataPromise,\n",
              "      response: {\n",
              "        action: 'continue',\n",
              "      }\n",
              "    };\n",
              "\n",
              "    // Use a chunked sending to avoid message size limits. See b/62115660.\n",
              "    let position = 0;\n",
              "    do {\n",
              "      const length = Math.min(fileData.byteLength - position, MAX_PAYLOAD_SIZE);\n",
              "      const chunk = new Uint8Array(fileData, position, length);\n",
              "      position += length;\n",
              "\n",
              "      const base64 = btoa(String.fromCharCode.apply(null, chunk));\n",
              "      yield {\n",
              "        response: {\n",
              "          action: 'append',\n",
              "          file: file.name,\n",
              "          data: base64,\n",
              "        },\n",
              "      };\n",
              "\n",
              "      let percentDone = fileData.byteLength === 0 ?\n",
              "          100 :\n",
              "          Math.round((position / fileData.byteLength) * 100);\n",
              "      percent.textContent = `${percentDone}% done`;\n",
              "\n",
              "    } while (position < fileData.byteLength);\n",
              "  }\n",
              "\n",
              "  // All done.\n",
              "  yield {\n",
              "    response: {\n",
              "      action: 'complete',\n",
              "    }\n",
              "  };\n",
              "}\n",
              "\n",
              "scope.google = scope.google || {};\n",
              "scope.google.colab = scope.google.colab || {};\n",
              "scope.google.colab._files = {\n",
              "  _uploadFiles,\n",
              "  _uploadFilesContinue,\n",
              "};\n",
              "})(self);\n",
              "</script> "
            ]
          },
          "metadata": {}
        },
        {
          "output_type": "stream",
          "name": "stdout",
          "text": [
            "Saving device_battery_data.csv to device_battery_data.csv\n"
          ]
        }
      ],
      "source": [
        "from google.colab import files\n",
        "uploaded = files.upload()\n",
        "\n",
        "# Load the dataset (ensure the filename matches exactly)\n",
        "data = pd.read_csv(\"device_battery_data.csv\")  # Use the correct file name here\n"
      ]
    },
    {
      "cell_type": "code",
      "execution_count": 5,
      "metadata": {
        "id": "poGh2gZRUqQ-"
      },
      "outputs": [],
      "source": [
        "# Mapping categorical variables\n",
        "data['alpha'] = data['Category'].map({'Laptop': 0.80, 'Smartwatch': 0.70, 'Tablet': 0.70, 'Smartphone': 0.75, 'Gaming Console': 0.85}).fillna(0.75)\n",
        "data['beta'] = data['Category'].map({'Laptop': 0.20, 'Smartwatch': 0.30, 'Tablet': 0.30, 'Smartphone': 0.25, 'Gaming Console': 0.15}).fillna(0.25)\n",
        "\n",
        "# Compute Battery Degradation Factor\n",
        "data['Battery_Degradation_Factor'] = (1 - (data['alpha'] * (data['Charging_Cycles'] / data['Maximum Cycles'])) - (data['beta'] * (data['Device Age (years)'] / data['Battery Lifespan (years)'])))\n",
        "\n",
        "# Compute Average Power Consumption\n",
        "data['Average_Power_Consumption'] = ((data['Active Time per Day (hours)'] * data['Active Power Consumption (mW)']) + (data['Sleep Time per Day (hours)'] * data['Sleep Power Consumption (mW)'])) / 24\n",
        "\n",
        "# Compute Battery Capacity in mWh\n",
        "data['Battery_Capacity_mWh'] = data['Battery Capacity (mAh)'] * data['Battery Voltage (V)']\n",
        "\n",
        "# Function to compute Temperature Factor\n",
        "def get_temperature_factor(temp):\n",
        "    if pd.isna(temp):\n",
        "        return 1.0\n",
        "    temp = float(temp)\n",
        "    return 1.0 if 20 <= temp <= 30 else 0.85 if temp > 35 else 0.65 if temp < 0 else 1.0\n",
        "\n",
        "data['Temperature Factor'] = data['Operating Temp (°C)'].apply(get_temperature_factor)\n",
        "\n",
        "# Environmental Factor Mapping\n",
        "env_map = {'ideal': 1.0, 'low humidity/dust': 0.95, 'high humidity/dust': 0.925, 'extreme': 0.85}\n",
        "data['Environmental Factor'] = data['Environmental Conditions'].str.lower().str.strip().map(env_map).fillna(1.0)\n",
        "\n",
        "# Ensure no division by zero\n",
        "data.loc[:, 'Average_Power_Consumption'] = data['Average_Power_Consumption'].replace(0, np.nan)\n",
        "data.dropna(subset=['Average_Power_Consumption'], inplace=True)\n",
        "\n",
        "# Compute Battery Life\n",
        "data['Battery_Life'] = (\n",
        "    data['Battery_Capacity_mWh'] * data['Battery_Degradation_Factor'] *\n",
        "    data['Temperature Factor'] * data['Environmental Factor'] /\n",
        "    data['Average_Power_Consumption']\n",
        ")\n",
        "\n",
        "# Remove invalid values\n",
        "data = data[data['Battery_Life'] > 0]\n"
      ]
    },
    {
      "cell_type": "code",
      "execution_count": 7,
      "metadata": {
        "id": "UP3o75jSUuns"
      },
      "outputs": [],
      "source": [
        "y_scaler = MinMaxScaler()\n",
        "y = y_scaler.fit_transform(data[['Battery_Life']].values)\n",
        "\n",
        "features = ['Battery_Degradation_Factor', 'Average_Power_Consumption', 'Battery_Capacity_mWh', 'Temperature Factor', 'Environmental Factor']\n",
        "X = data[features].values\n",
        "\n",
        "scaler = StandardScaler()\n",
        "X_scaled = scaler.fit_transform(X)\n",
        "\n",
        "# PCA to retain at least 5 features\n",
        "pca = PCA(n_components=min(5, X.shape[1]))\n",
        "X_reduced = pca.fit_transform(X_scaled)\n",
        "\n",
        "# Train-test split\n",
        "X_train, X_test, y_train, y_test = train_test_split(X_reduced, y, test_size=0.2, random_state=42, shuffle=True)\n"
      ]
    },
    {
      "cell_type": "code",
      "execution_count": 9,
      "metadata": {
        "colab": {
          "base_uri": "https://localhost:8080/"
        },
        "id": "irkj4ye4U0V-",
        "outputId": "cfd6e3de-5ef7-4c5a-e770-669f3f51ac7c"
      },
      "outputs": [
        {
          "output_type": "stream",
          "name": "stdout",
          "text": [
            "Feature Map Parameters: [ParameterVectorElement(x[0]), ParameterVectorElement(x[1]), ParameterVectorElement(x[2]), ParameterVectorElement(x[3]), ParameterVectorElement(x[4])]\n",
            "Ansatz Parameters: [ParameterVectorElement(θ[0]), ParameterVectorElement(θ[1]), ParameterVectorElement(θ[2]), ParameterVectorElement(θ[3]), ParameterVectorElement(θ[4]), ParameterVectorElement(θ[5]), ParameterVectorElement(θ[6]), ParameterVectorElement(θ[7]), ParameterVectorElement(θ[8]), ParameterVectorElement(θ[9]), ParameterVectorElement(θ[10]), ParameterVectorElement(θ[11]), ParameterVectorElement(θ[12]), ParameterVectorElement(θ[13]), ParameterVectorElement(θ[14]), ParameterVectorElement(θ[15]), ParameterVectorElement(θ[16]), ParameterVectorElement(θ[17]), ParameterVectorElement(θ[18]), ParameterVectorElement(θ[19]), ParameterVectorElement(θ[20]), ParameterVectorElement(θ[21]), ParameterVectorElement(θ[22]), ParameterVectorElement(θ[23]), ParameterVectorElement(θ[24]), ParameterVectorElement(θ[25]), ParameterVectorElement(θ[26]), ParameterVectorElement(θ[27]), ParameterVectorElement(θ[28]), ParameterVectorElement(θ[29])]\n",
            "Combined Circuit:\n",
            "     ┌─────────────────────────────────────────┐»\n",
            "q_0: ┤0                                        ├»\n",
            "     │                                         │»\n",
            "q_1: ┤1                                        ├»\n",
            "     │                                         │»\n",
            "q_2: ┤2 ZZFeatureMap(x[0],x[1],x[2],x[3],x[4]) ├»\n",
            "     │                                         │»\n",
            "q_3: ┤3                                        ├»\n",
            "     │                                         │»\n",
            "q_4: ┤4                                        ├»\n",
            "     └─────────────────────────────────────────┘»\n",
            "«     ┌──────────────────────────────────────────────────────────────────────────────────────────────────────────────────────────────────────────────────────────────────────────────────────────┐\n",
            "«q_0: ┤0                                                                                                                                                                                         ├\n",
            "«     │                                                                                                                                                                                          │\n",
            "«q_1: ┤1                                                                                                                                                                                         ├\n",
            "«     │                                                                                                                                                                                          │\n",
            "«q_2: ┤2 EfficientSU2(θ[0],θ[1],θ[2],θ[3],θ[4],θ[5],θ[6],θ[7],θ[8],θ[9],θ[10],θ[11],θ[12],θ[13],θ[14],θ[15],θ[16],θ[17],θ[18],θ[19],θ[20],θ[21],θ[22],θ[23],θ[24],θ[25],θ[26],θ[27],θ[28],θ[29]) ├\n",
            "«     │                                                                                                                                                                                          │\n",
            "«q_3: ┤3                                                                                                                                                                                         ├\n",
            "«     │                                                                                                                                                                                          │\n",
            "«q_4: ┤4                                                                                                                                                                                         ├\n",
            "«     └──────────────────────────────────────────────────────────────────────────────────────────────────────────────────────────────────────────────────────────────────────────────────────────┘\n"
          ]
        }
      ],
      "source": [
        "# Set seed for reproducibility\n",
        "seed = 42\n",
        "algorithm_globals.random_seed = seed\n",
        "\n",
        "estimator = StatevectorEstimator()\n",
        "num_qubits = max(1, X_reduced.shape[1])\n",
        "\n",
        "# Define feature map and ansatz\n",
        "feature_map = ZZFeatureMap(feature_dimension=num_qubits, reps=2, entanglement=\"full\")\n",
        "ansatz = EfficientSU2(num_qubits, reps=2, entanglement=\"full\")\n",
        "\n",
        "\n",
        "gradient = ParamShiftEstimatorGradient(estimator)\n",
        "\n",
        "# Print circuit structure\n",
        "print(\"Feature Map Parameters:\", list(feature_map.parameters))\n",
        "print(\"Ansatz Parameters:\", list(ansatz.parameters))\n",
        "print(\"Combined Circuit:\")\n",
        "print(feature_map.compose(ansatz).draw())\n",
        "\n",
        "# Construct Quantum Neural Network\n",
        "qnn = EstimatorQNN(\n",
        "    circuit=feature_map.compose(ansatz),\n",
        "    input_params=feature_map.parameters,\n",
        "    weight_params=ansatz.parameters,\n",
        "    estimator=estimator,\n",
        "    gradient=gradient\n",
        ")\n",
        "\n",
        "# Define optimizer\n",
        "optimizer = SPSA(maxiter=2000, learning_rate=0.02, perturbation=0.01)\n",
        "nn_regressor = NeuralNetworkRegressor(qnn, optimizer=optimizer)\n"
      ]
    },
    {
      "cell_type": "code",
      "execution_count": null,
      "metadata": {
        "id": "KBd3KlgsU3Rk"
      },
      "outputs": [],
      "source": [
        "kf = KFold(n_splits=2, shuffle=True, random_state=42)\n",
        "r2_scores, mse_scores = [], []\n",
        "\n",
        "for train_idx, val_idx in kf.split(X_train):\n",
        "    X_cv_train, X_cv_val = X_train[train_idx], X_train[val_idx]\n",
        "    y_cv_train, y_cv_val = y_train[train_idx], y_train[val_idx]\n",
        "\n",
        "    nn_regressor.fit(X_cv_train, y_cv_train)\n",
        "    y_cv_pred = nn_regressor.predict(X_cv_val).reshape(-1, 1)\n",
        "    y_cv_pred = y_scaler.inverse_transform(y_cv_pred)\n",
        "    y_cv_pred = np.clip(y_cv_pred, 0, None)\n",
        "\n",
        "    mse_scores.append(mean_squared_error(y_cv_val, y_cv_pred))\n",
        "    r2_scores.append(r2_score(y_cv_val, y_cv_pred))"
      ]
    },
    {
      "cell_type": "code",
      "execution_count": null,
      "metadata": {
        "id": "1LvAmf3rU8IT"
      },
      "outputs": [],
      "source": [
        "y_pred = np.maximum(0, y_scaler.inverse_transform(nn_regressor.predict(X_test)))\n",
        "mse = mean_squared_error(y_test, y_pred)\n",
        "r2 = r2_score(y_test, y_pred)\n",
        "\n",
        "print(\"Quantum Neural Network Regressor:\")\n",
        "print(\"  MSE:\", mse, \"(Avg CV MSE:\", np.mean(mse_scores), \")\")\n",
        "print(\"  R²:\", r2, \"(Avg CV R²:\", np.mean(r2_scores), \")\")\n",
        "\n",
        "# Display sample predictions\n",
        "print(\"Actual:\", y_scaler.inverse_transform(y_test[:10].reshape(-1, 1)))\n",
        "print(\"Predicted:\", y_pred[:10])\n"
      ]
    },
    {
      "cell_type": "markdown",
      "metadata": {
        "id": "YUXpEd2-GJyC"
      },
      "source": [
        "# New Section"
      ]
    },
    {
      "cell_type": "code",
      "execution_count": null,
      "metadata": {
        "id": "jd3lueIRF7Cn"
      },
      "outputs": [],
      "source": [
        "!pip install qiskit-algorithms --no-cache-dir\n"
      ]
    },
    {
      "cell_type": "code",
      "execution_count": null,
      "metadata": {
        "id": "7NF81N_SE4QE"
      },
      "outputs": [],
      "source": [
        "!pip install qiskit-algorithms --no-cache-dir\n"
      ]
    },
    {
      "cell_type": "code",
      "execution_count": null,
      "metadata": {
        "id": "Tx_rLglkEsh7"
      },
      "outputs": [],
      "source": []
    },
    {
      "cell_type": "code",
      "execution_count": null,
      "metadata": {
        "id": "vDuFb0J4D3Iz"
      },
      "outputs": [],
      "source": [
        "!pip uninstall -y qiskit qiskit-aer qiskit-ibmq-provider qiskit-machine-learning qiskit-terra\n"
      ]
    },
    {
      "cell_type": "code",
      "execution_count": null,
      "metadata": {
        "id": "g4Jw49DcEdn-"
      },
      "outputs": [],
      "source": [
        "!python -m venv qiskit_env\n",
        "!qiskit_env\\Scripts\\activate\n"
      ]
    },
    {
      "cell_type": "code",
      "execution_count": null,
      "metadata": {
        "id": "hmvBOs9WEhp2"
      },
      "outputs": [],
      "source": [
        "!pip install qiskit qiskit-aer qiskit-machine-learning --no-cache-dir\n"
      ]
    },
    {
      "cell_type": "markdown",
      "metadata": {
        "id": "UR0kug_8EIfS"
      },
      "source": [
        "python -m venv qiskit_env\n",
        "qiskit_env\\Scripts\\activate\n"
      ]
    },
    {
      "cell_type": "code",
      "execution_count": null,
      "metadata": {
        "id": "57X2B462CZXw"
      },
      "outputs": [],
      "source": [
        "pip install --upgrade symengine==0.13.0"
      ]
    },
    {
      "cell_type": "code",
      "execution_count": null,
      "metadata": {
        "id": "f0X5oRH7DHps"
      },
      "outputs": [],
      "source": [
        "pip install --upgrade qiskit-aer\n"
      ]
    },
    {
      "cell_type": "code",
      "execution_count": null,
      "metadata": {
        "id": "zbyZJT-hBVXN"
      },
      "outputs": [],
      "source": [
        "pip install qiskit-machine-learning\n"
      ]
    },
    {
      "cell_type": "code",
      "execution_count": null,
      "metadata": {
        "id": "mgQmjOZgAnHS"
      },
      "outputs": [],
      "source": [
        "pip install qiskit==0.43.2"
      ]
    }
  ],
  "metadata": {
    "colab": {
      "provenance": [],
      "authorship_tag": "ABX9TyMzzlSiqYjTncC12f0/r/Cf",
      "include_colab_link": true
    },
    "kernelspec": {
      "display_name": "Python 3",
      "name": "python3"
    },
    "language_info": {
      "name": "python"
    }
  },
  "nbformat": 4,
  "nbformat_minor": 0
}